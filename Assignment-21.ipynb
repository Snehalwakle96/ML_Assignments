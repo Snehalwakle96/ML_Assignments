{
 "cells": [
  {
   "cell_type": "markdown",
   "id": "5846650f-553c-4bb4-a8c3-ac8d62ad008d",
   "metadata": {},
   "source": [
    "### 1. What is the estimated depth of a Decision Tree trained (unrestricted) on a one million instance training set?\n",
    "\n",
    "Estimated Depth of a Decision Tree:\n",
    "The depth of a Decision Tree trained on a large dataset like one million instances can vary, but generally, \n",
    "it could reach up to 20 to 30 levels deep. The depth depends on the complexity and the number of features in the data.\n",
    "The tree grows until all leaves are pure or until all features are used up.\n",
    "\n",
    "### 2. Is the Gini impurity of a node usually lower or higher than that of its parent? Is it always lower/greater, or is it usually lower/greater?\n",
    "\n",
    "Gini Impurity Comparison:\n",
    "The Gini impurity of a child node is usually lower than that of its parent node. It is not always lower, but it is typically lower, \n",
    "because the tree splits the data in a way that minimizes impurity. However, in some cases, depending on the split, the impurity \n",
    "might not reduce as expected.\n",
    "\n",
    "### 3. Explain if it's a good idea to reduce max depth if a Decision Tree is overfitting the training set?\n",
    "\n",
    "Reducing Max Depth to Prevent Overfitting:\n",
    "Yes, reducing the max depth of a Decision Tree is a good strategy to prevent overfitting. A deeper tree might capture noise \n",
    "and lead to overfitting. By limiting the depth, you constrain the model, making it more generalized to new, unseen data.\n",
    "\n",
    "### 4. Explain if it's a good idea to try scaling the input features if a Decision Tree underfits the training set?\n",
    "\n",
    "Scaling Input Features for Decision Trees:\n",
    "Scaling the input features does not typically affect the performance of Decision Trees, as they are not sensitive to the \n",
    "scale of the input data. If a Decision Tree is underfitting, it's better to focus on other hyperparameters like increasing \n",
    "the max depth, reducing the minimum samples required to split a node, or allowing more leaf nodes.\n",
    "\n",
    "### 5. How much time will it take to train another Decision Tree on a training set of 10 million instances if it takes an hour to train a Decision Tree on a training set with 1 million instances?\n",
    "\n",
    "Training Time Estimate for Larger Dataset:\n",
    "The time complexity of training a Decision Tree is O(n log n), where n is the number of instances. If it takes 1 hour for \n",
    "1 million instances, for 10 million instances, it could take approximately 10 times longer, so around 10 hours. \n",
    "However, the exact time might vary based on the implementation and system resources.\n",
    "\n",
    "### 6. Will setting presort=True speed up training if your training set has 100,000 instances?\n",
    "\n",
    "Effect of presort=True on Training Speed:\n",
    "Setting presort=True can speed up training for small datasets, but for large datasets like 100,000 instances, \n",
    "it could actually slow down the process. Presorting helps with splits but incurs additional computational overhead \n",
    "that might outweigh the benefits for larger datasets.\n",
    "\n"
   ]
  },
  {
   "cell_type": "markdown",
   "id": "5dd6ee08-37f7-4111-8ae7-23a0e44b868d",
   "metadata": {},
   "source": [
    "### 7. Follow these steps to train and fine-tune a Decision Tree for the moons dataset:\n",
    "\n",
    "a. To build a moons dataset, use make_moons(n_samples=10000, noise=0.4).\n",
    "\n",
    "b. Divide the dataset into a training and a test collection with train_test_split().\n",
    "\n",
    "c. To find good hyperparameters values for a DecisionTreeClassifier, use grid search with cross-validation \n",
    "   (with the GridSearchCV class). Try different values for max_leaf_nodes.\n",
    "   \n",
    "d. Use these hyperparameters to train the model on the entire training set, and then assess its output on the test set. \n",
    "   You can achieve an accuracy of 85 to 87 percent.\n"
   ]
  },
  {
   "cell_type": "code",
   "execution_count": 2,
   "id": "1395ccb2-5f2e-460e-ab75-63bc9e84f422",
   "metadata": {},
   "outputs": [
    {
     "data": {
      "text/plain": [
       "0.865"
      ]
     },
     "execution_count": 2,
     "metadata": {},
     "output_type": "execute_result"
    }
   ],
   "source": [
    "# Training and Fine-Tuning a Decision Tree:\n",
    "\n",
    "from sklearn.datasets import make_moons\n",
    "from sklearn.model_selection import train_test_split, GridSearchCV\n",
    "from sklearn.tree import DecisionTreeClassifier\n",
    "\n",
    "# a. Create moons dataset\n",
    "X, y = make_moons(n_samples=10000, noise=0.4)\n",
    "\n",
    "# b. Split into training and test sets\n",
    "X_train, X_test, y_train, y_test = train_test_split(X, y, test_size=0.2, random_state=42)\n",
    "\n",
    "# c. Grid search for best hyperparameters\n",
    "param_grid = {'max_leaf_nodes': [10, 20, 30, 40, 50]}\n",
    "grid_search = GridSearchCV(DecisionTreeClassifier(random_state=42), param_grid, cv=5)\n",
    "grid_search.fit(X_train, y_train)\n",
    "\n",
    "# d. Train and evaluate the model\n",
    "best_model = grid_search.best_estimator_\n",
    "test_accuracy = best_model.score(X_test, y_test)\n",
    "test_accuracy  # Expected accuracy between 85% and 87%"
   ]
  },
  {
   "cell_type": "markdown",
   "id": "140298e4-0764-4f58-a1f8-9e691930123b",
   "metadata": {},
   "source": [
    "### 8. Follow these steps to grow a forest:\n",
    "\n",
    "a. Using the same method as before, create 1,000 subsets of the training set, each containing 100 instances \n",
    "   chosen at random. You can do this with Scikit-Learn's ShuffleSplit class.\n",
    "   \n",
    "b. Using the best hyperparameter values found in the previous exercise, train one Decision Tree on each subset. \n",
    "   On the test collection, evaluate these 1,000 Decision Trees. These Decision Trees would likely perform worse \n",
    "   than the first Decision Tree, achieving only around 80% accuracy since they were trained on smaller sets.\n",
    "   \n",
    "c. Now the magic begins. Create 1,000 Decision Tree predictions for each test set case, and keep only the most \n",
    "   common prediction (you can do this with SciPy's mode() function). Over the test collection, this method gives \n",
    "   you majority-vote predictions.\n",
    "   \n",
    "d. On the test range, evaluate these predictions: you should achieve a slightly higher accuracy than the first \n",
    "   model (approx 0.5 to 1.5 percent higher). You've successfully learned a Random Forest classifier!\n",
    "\n"
   ]
  },
  {
   "cell_type": "code",
   "execution_count": 3,
   "id": "462b5323-5165-4dab-ae39-6487427945d2",
   "metadata": {},
   "outputs": [
    {
     "name": "stderr",
     "output_type": "stream",
     "text": [
      "C:\\Users\\cla.shehal\\AppData\\Local\\Temp\\ipykernel_37548\\448860494.py:25: FutureWarning: Unlike other reduction functions (e.g. `skew`, `kurtosis`), the default behavior of `mode` typically preserves the axis it acts along. In SciPy 1.11.0, this behavior will change: the default value of `keepdims` will become False, the `axis` over which the statistic is taken will be eliminated, and the value None will no longer be accepted. Set `keepdims` to True or False to avoid this warning.\n",
      "  majority_votes, _ = mode(np.array(all_trees_predictions), axis=0)\n"
     ]
    },
    {
     "data": {
      "text/plain": [
       "0.868"
      ]
     },
     "execution_count": 3,
     "metadata": {},
     "output_type": "execute_result"
    }
   ],
   "source": [
    "# Growing a Forest:\n",
    "\n",
    "from sklearn.model_selection import ShuffleSplit\n",
    "from scipy.stats import mode\n",
    "import numpy as np\n",
    "\n",
    "# a. Create 1,000 subsets\n",
    "n_subsets = 1000\n",
    "n_instances = 100\n",
    "ss = ShuffleSplit(n_splits=n_subsets, train_size=n_instances, random_state=42)\n",
    "\n",
    "subsets = []\n",
    "for train_index, _ in ss.split(X_train):\n",
    "    subsets.append((X_train[train_index], y_train[train_index]))\n",
    "\n",
    "# b. Train 1,000 Decision Trees on subsets\n",
    "all_trees_predictions = []\n",
    "for subset in subsets:\n",
    "    tree_clf = DecisionTreeClassifier(max_leaf_nodes=grid_search.best_params_['max_leaf_nodes'], random_state=42)\n",
    "    tree_clf.fit(subset[0], subset[1])\n",
    "    predictions = tree_clf.predict(X_test)\n",
    "    all_trees_predictions.append(predictions)\n",
    "\n",
    "# c. Aggregate predictions with majority voting\n",
    "majority_votes, _ = mode(np.array(all_trees_predictions), axis=0)\n",
    "\n",
    "# d. Evaluate the final predictions\n",
    "forest_accuracy = np.mean(majority_votes.ravel() == y_test)\n",
    "forest_accuracy  # Expected to be slightly higher than the single Decision Tree's accuracy\n"
   ]
  },
  {
   "cell_type": "code",
   "execution_count": null,
   "id": "be72c61b-3e36-4d0e-8cdf-9d794511d66f",
   "metadata": {},
   "outputs": [],
   "source": []
  }
 ],
 "metadata": {
  "kernelspec": {
   "display_name": "Python 3 (ipykernel)",
   "language": "python",
   "name": "python3"
  },
  "language_info": {
   "codemirror_mode": {
    "name": "ipython",
    "version": 3
   },
   "file_extension": ".py",
   "mimetype": "text/x-python",
   "name": "python",
   "nbconvert_exporter": "python",
   "pygments_lexer": "ipython3",
   "version": "3.11.7"
  }
 },
 "nbformat": 4,
 "nbformat_minor": 5
}
