{
 "cells": [
  {
   "cell_type": "markdown",
   "id": "f8608afc-d0f6-440e-9edf-f21dedc3038c",
   "metadata": {},
   "source": [
    "### 1. Example of Prior, Posterior, and Likelihood Concepts\n",
    "Prior: This represents the initial belief about an event before any new evidence is taken into account. For example, suppose you believe there’s a 70% chance it will rain today based on the weather forecast from the previous day. This is your prior probability.\n",
    "\n",
    "Likelihood: This is the probability of observing the new evidence given a certain event. For instance, if you observe dark clouds and heavy winds, you may assess the likelihood that it will rain today as 90%.\n",
    "\n",
    "Posterior: This is the updated probability of the event after taking into account the new evidence. Using Bayes' theorem, you can combine your prior belief (70% chance of rain) with the likelihood (90% chance given the dark clouds) to calculate the posterior probability of rain.\n",
    "\n",
    "### 2. Role of Bayes' Theorem in Concept Learning Principle\n",
    "Bayes' theorem plays a critical role in concept learning by updating the probability of a hypothesis as more evidence or data becomes available. In concept learning, a learner begins with a prior belief about the likelihood of different concepts (hypotheses). As the learner observes new instances (data), Bayes' theorem is used to update the probability of each hypothesis, leading to a more refined understanding of which hypothesis is most likely to be correct.\n",
    "\n",
    "### 3. Example of Naive Bayes Classifier in Real Life\n",
    "The Naive Bayes classifier is often used in spam email detection. The classifier considers various words in an email and calculates the probability that the email is spam based on the presence of those words. Despite the assumption of independence between words (which is often violated in practice), the Naive Bayes classifier works effectively to filter out spam emails.\n",
    "\n",
    "### 4. Naive Bayes Classifier on Continuous Numeric Data\n",
    "Yes, the Naive Bayes classifier can be used on continuous numeric data by employing techniques like Gaussian Naive Bayes, where the continuous data is assumed to follow a Gaussian (normal) distribution. For each feature, the likelihood is calculated using the Gaussian probability density function. The classifier then uses Bayes' theorem to predict the probability that a given instance belongs to each class.\n",
    "\n",
    "### 5. Bayesian Belief Networks (BBNs)\n",
    "Bayesian Belief Networks (BBNs) are graphical models that represent the probabilistic relationships among a set of variables. Each node in the network represents a random variable, and the edges represent conditional dependencies. BBNs use Bayes' theorem to update the belief in the state of a node based on evidence.\n",
    "\n",
    "Applications: BBNs are used in various fields, including medical diagnosis, decision-making, risk analysis, and machine learning. For example, in medical diagnosis, BBNs can help determine the probability of a disease given symptoms.\n",
    "\n",
    "Capability: BBNs are powerful in resolving a wide range of issues, especially when dealing with uncertain information and complex interdependencies among variables.\n"
   ]
  },
  {
   "cell_type": "markdown",
   "id": "0f900532-a662-41af-a9f8-127b5e1bc2a1",
   "metadata": {},
   "source": [
    "### 6. Probability of Alarm Being Triggered When an Individual is Actually an Intruder\n",
    "--\n",
    "Given:\n",
    "- \\( P(A = 1|I = 1) = 0.98 \\)\n",
    "- \\( P(A = 1|I = 0) = 0.001 \\)\n",
    "- \\( P(I = 1) = 0.00001 \\)\n",
    "\n",
    "The probability that an alarm is triggered when an individual is actually an intruder is \\( P(A = 1|I = 1) \\), which is given as **0.98**.\n"
   ]
  },
  {
   "cell_type": "markdown",
   "id": "4ec3644c-7d1b-4280-ad46-a3c5c312ea23",
   "metadata": {},
   "source": [
    "### 7. Probability that a Person Who Tests Positive is Actually Immune\n",
    "Given:\n",
    "\n",
    "To calculate the probability that a person who tests positive is actually immune, we apply Bayes' theorem:\n",
    "\n",
    "\\[\n",
    "P(D|T = 1) = \\frac{P(T = 1|D) \\times P(D)}{P(T = 1)}\n",
    "\\]\n",
    "\n",
    "Where:\n",
    "- \\( P(T = 1|D) = 0.95 \\) (since 5% false negatives)\n",
    "- \\( P(T = 1|D^c) = 0.01 \\)\n",
    "- \\( P(D) = 0.02 \\)\n",
    "- \\( P(D^c) = 0.98 \\)\n",
    "- \\( P(T = 1) = P(T = 1|D) \\times P(D) + P(T = 1|D^c) \\times P(D^c) \\)\n",
    "\n",
    "Substitute the values and solve.\n",
    "\n",
    "\n"
   ]
  },
  {
   "cell_type": "markdown",
   "id": "3c3c2585-3d73-417c-95ad-b181ba13191c",
   "metadata": {},
   "source": [
    "### 8. Exam Problem Likelihood\n",
    "1. **Likelihood the student can solve the exam problem**:\n",
    "   \\[\n",
    "   P(\\text{solve}) = P(A) \\times P(\\text{solve}|A) + P(B) \\times P(\\text{solve}|B) + P(C) \\times P(\\text{solve}|C)\n",
    "   \\]\n",
    "\n",
    "   Where:\n",
    "   - \\( P(A) = 0.3 \\), \\( P(B) = 0.2 \\), \\( P(C) = 0.5 \\)\n",
    "   - \\( P(\\text{solve}|A) = 0.9 \\), \\( P(\\text{solve}|B) = 0.2 \\), \\( P(\\text{solve}|C) = 0.6 \\)\n",
    "\n",
    "   Compute the overall probability.\n",
    "\n",
    "2. **Likelihood the problem was of form A given the student solved it**:\n",
    "   Use Bayes' theorem:\n",
    "   \\[\n",
    "   P(A|\\text{solve}) = \\frac{P(\\text{solve}|A) \\times P(A)}{P(\\text{solve})}\n",
    "   \\]\n",
    "\n"
   ]
  },
  {
   "cell_type": "markdown",
   "id": "ebc7be1c-f73e-45fe-8e46-c54278fda037",
   "metadata": {},
   "source": [
    "### 9. Bank CCTV System Problem\n",
    "1. **Daily Customers**: Calculate the expected number of customers per day:\n",
    "   \\[\n",
    "   \\text{Expected customers per day} = \\text{Total periods per day} \\times \\text{Probability of customer per period}\n",
    "   \\]\n",
    "   For 10 hours: \\( 10 \\times 60 / 5 = 120 \\) periods, \\( 120 \\times 0.05 = 6 \\) customers per day.\n",
    "\n",
    "2. **Fake and Missed Photographs**:\n",
    "   - **Fake photographs**: \\( (1 - P(\\text{customer})) \\times \\text{Total periods} \\times \\text{False positive rate} \\)\n",
    "   - **Missed photographs**: \\( P(\\text{customer}) \\times \\text{Total periods} \\times \\text{False negative rate} \\)\n",
    "\n",
    "3. **Likelihood of a customer if there is a photograph**:\n",
    "   Use Bayes' theorem:\n",
    "   \\[\n",
    "   P(\\text{Customer}|\\text{Photograph}) = \\frac{P(\\text{Photograph}|\\text{Customer}) \\times P(\\text{Customer})}{P(\\text{Photograph})}\n",
    "   \\]\n"
   ]
  },
  {
   "cell_type": "markdown",
   "id": "e458bb2c-14c6-4752-bafc-62416fa0cb05",
   "metadata": {},
   "source": [
    "### 10.Conditional Probability Table for \"Won Toss\" in Bayesian Belief Network\n",
    "To create the conditional probability table for \"Won Toss\", consider each factor that influences the outcome, such as weather conditions, team strength, etc., and use these as inputs to the Bayesian network. The table would list the conditional probabilities for winning the toss given different scenarios or conditions. Each row in the table would represent a combination of these factors with the associated probability of winning the toss."
   ]
  },
  {
   "cell_type": "code",
   "execution_count": null,
   "id": "f4946d94-a6b7-44d0-9a9b-b869b95cb1ef",
   "metadata": {},
   "outputs": [],
   "source": []
  }
 ],
 "metadata": {
  "kernelspec": {
   "display_name": "Python 3 (ipykernel)",
   "language": "python",
   "name": "python3"
  },
  "language_info": {
   "codemirror_mode": {
    "name": "ipython",
    "version": 3
   },
   "file_extension": ".py",
   "mimetype": "text/x-python",
   "name": "python",
   "nbconvert_exporter": "python",
   "pygments_lexer": "ipython3",
   "version": "3.11.7"
  }
 },
 "nbformat": 4,
 "nbformat_minor": 5
}
